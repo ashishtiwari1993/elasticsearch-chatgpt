{
  "nbformat": 4,
  "nbformat_minor": 0,
  "metadata": {
    "colab": {
      "provenance": []
    },
    "kernelspec": {
      "name": "python3",
      "display_name": "Python 3"
    },
    "language_info": {
      "name": "python"
    }
  },
  "cells": [
    {
      "cell_type": "markdown",
      "source": [
        "# Install and import required python libraries"
      ],
      "metadata": {
        "id": "gHktW-eijBf5"
      }
    },
    {
      "cell_type": "code",
      "source": [
        "pip -q install eland elasticsearch sentence_transformers transformers torch==1.11"
      ],
      "metadata": {
        "id": "WP-vxQi1jEo6"
      },
      "execution_count": null,
      "outputs": []
    },
    {
      "cell_type": "markdown",
      "source": [
        "# Upload Model using Eland"
      ],
      "metadata": {
        "id": "rMUk_cYH7X-H"
      }
    },
    {
      "cell_type": "code",
      "source": [
        "from pathlib import Path\n",
        "from eland.ml.pytorch import PyTorchModel\n",
        "from eland.ml.pytorch.transformers import TransformerModel\n",
        "from elasticsearch import Elasticsearch\n",
        "from elasticsearch.client import MlClient\n",
        "\n",
        "import getpass\n",
        "\n",
        "\n",
        "es_cloud_id = getpass.getpass('Enter Elastic Cloud ID:  ')\n",
        "es_user = getpass.getpass('Enter cluster username:  ')\n",
        "es_pass = getpass.getpass('Enter cluster password:  ')\n",
        "hf_model_id =  getpass.getpass('Enter Model ID:  ')\n",
        "\n",
        "es = Elasticsearch(cloud_id=es_cloud_id,\n",
        "                   basic_auth=(es_user, es_pass)\n",
        "                   )\n",
        "es.info() # should return cluster info\n",
        "\n",
        "tm = TransformerModel(hf_model_id, \"text_embedding\")\n",
        "\n",
        "#set the modelID as it is named in Elasticsearch\n",
        "es_model_id = tm.elasticsearch_model_id()\n",
        "\n",
        "# Download the model from Hugging Face\n",
        "tmp_path = \"models\"\n",
        "Path(tmp_path).mkdir(parents=True, exist_ok=True)\n",
        "model_path, config, vocab_path = tm.save(tmp_path)\n",
        "\n",
        "# Load the model into Elasticsearch\n",
        "ptm = PyTorchModel(es, es_model_id)\n",
        "ptm.import_model(model_path=model_path, config_path=None, vocab_path=vocab_path, config=config)\n",
        "\n",
        "# View information about the model\n",
        "\n",
        "m = MlClient.get_trained_models(es, model_id=es_model_id)\n",
        "m.body\n",
        "\n",
        "# Deploy the model\n",
        "\n",
        "s = MlClient.start_trained_model_deployment(es, model_id=es_model_id)\n",
        "s.body\n",
        "\n",
        "# Verify the model started without issue\n",
        "\n",
        "stats = MlClient.get_trained_models_stats(es, model_id=es_model_id)\n",
        "stats.body['trained_model_stats'][0]['deployment_stats']['nodes'][0]['routing_state']"
      ],
      "metadata": {
        "id": "oA0tZ2mLjITz"
      },
      "execution_count": null,
      "outputs": []
    }
  ]
}